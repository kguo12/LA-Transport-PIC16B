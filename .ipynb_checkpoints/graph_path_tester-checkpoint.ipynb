{
 "cells": [
  {
   "cell_type": "code",
   "execution_count": 1,
   "id": "42d551cd-263a-4b4b-91ee-3bc0e179563c",
   "metadata": {
    "tags": []
   },
   "outputs": [],
   "source": [
    "import path_optm\n",
    "import pandas as pd\n",
    "import numpy as np\n",
    "import random\n",
    "import networkx as nx"
   ]
  },
  {
   "cell_type": "code",
   "execution_count": 2,
   "id": "ff039925-3668-4f49-8b15-3cd6a9b4a75b",
   "metadata": {
    "tags": []
   },
   "outputs": [],
   "source": [
    "np.random.seed(63)\n",
    "points = np.random.randint(1, 100, size=(100, 2))\n",
    "indices = np.random.choice(100, size=10, replace=False)"
   ]
  },
  {
   "cell_type": "code",
   "execution_count": 3,
   "id": "15dcaf2c-4759-412d-b496-3cea3f158e12",
   "metadata": {
    "tags": []
   },
   "outputs": [
    {
     "data": {
      "text/plain": [
       "array([[66, 71],\n",
       "       [97, 90],\n",
       "       [51, 95],\n",
       "       [ 7,  5],\n",
       "       [57, 39],\n",
       "       [30,  9],\n",
       "       [71, 61],\n",
       "       [ 8, 42],\n",
       "       [96, 79],\n",
       "       [ 7, 39]])"
      ]
     },
     "execution_count": 3,
     "metadata": {},
     "output_type": "execute_result"
    }
   ],
   "source": [
    "arg = points[indices]\n",
    "start = 2\n",
    "end = 9\n",
    "arg\n"
   ]
  },
  {
   "cell_type": "code",
   "execution_count": 8,
   "id": "2887545f-1d5c-4380-a223-a91c74b97c3b",
   "metadata": {
    "tags": []
   },
   "outputs": [
    {
     "ename": "KeyboardInterrupt",
     "evalue": "",
     "output_type": "error",
     "traceback": [
      "\u001b[1;31m---------------------------------------------------------------------------\u001b[0m",
      "\u001b[1;31mKeyboardInterrupt\u001b[0m                         Traceback (most recent call last)",
      "Cell \u001b[1;32mIn[8], line 1\u001b[0m\n\u001b[1;32m----> 1\u001b[0m paths \u001b[38;5;241m=\u001b[39m \u001b[38;5;28;43mlist\u001b[39;49m\u001b[43m(\u001b[49m\u001b[43mpath_optm\u001b[49m\u001b[38;5;241;43m.\u001b[39;49m\u001b[43mshortest_path\u001b[49m\u001b[43m(\u001b[49m\u001b[43marg\u001b[49m\u001b[43m,\u001b[49m\u001b[43m \u001b[49m\u001b[43mstart\u001b[49m\u001b[43m,\u001b[49m\u001b[43m \u001b[49m\u001b[43mend\u001b[49m\u001b[43m)\u001b[49m\u001b[43m)\u001b[49m\n\u001b[0;32m      2\u001b[0m \u001b[38;5;28mprint\u001b[39m(paths)\n",
      "File \u001b[1;32m~\\anaconda3\\envs\\PIC16B-25W\\Lib\\site-packages\\networkx\\algorithms\\simple_paths.py:-1\u001b[0m, in \u001b[0;36mshortest_simple_paths\u001b[1;34m(G, source, target, weight)\u001b[0m\n\u001b[0;32m      0\u001b[0m <Error retrieving source code with stack_data see ipython/ipython#13598>\n",
      "\u001b[1;31mKeyboardInterrupt\u001b[0m: "
     ]
    }
   ],
   "source": [
    "path_optm.shortest_path(arg, start, end)"
   ]
  },
  {
   "cell_type": "code",
   "execution_count": 9,
   "id": "758a7f8f-b49c-4fb0-89be-b6c33e328ae4",
   "metadata": {
    "tags": []
   },
   "outputs": [
    {
     "name": "stdout",
     "output_type": "stream",
     "text": [
      "[[0, 1, 2, 3], [0, 6, 5, 4, 3]]\n"
     ]
    }
   ],
   "source": [
    "G = nx.cycle_graph(7)\n",
    "paths = list(nx.shortest_simple_paths(G, 0, 3))\n",
    "print(paths)"
   ]
  },
  {
   "cell_type": "code",
   "execution_count": null,
   "id": "1259a7a8-acbd-42ed-b730-e82d1b69f8be",
   "metadata": {},
   "outputs": [],
   "source": []
  }
 ],
 "metadata": {
  "kernelspec": {
   "display_name": "Python [conda env:PIC16B-25W] *",
   "language": "python",
   "name": "conda-env-PIC16B-25W-py"
  },
  "language_info": {
   "codemirror_mode": {
    "name": "ipython",
    "version": 3
   },
   "file_extension": ".py",
   "mimetype": "text/x-python",
   "name": "python",
   "nbconvert_exporter": "python",
   "pygments_lexer": "ipython3",
   "version": "3.11.6"
  }
 },
 "nbformat": 4,
 "nbformat_minor": 5
}
