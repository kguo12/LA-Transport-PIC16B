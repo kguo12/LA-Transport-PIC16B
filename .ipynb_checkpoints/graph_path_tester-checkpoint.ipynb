{
 "cells": [
  {
   "cell_type": "code",
   "execution_count": 7,
   "id": "42d551cd-263a-4b4b-91ee-3bc0e179563c",
   "metadata": {
    "tags": []
   },
   "outputs": [],
   "source": [
    "from path_optm import shortest_path\n",
    "import pandas as pd\n",
    "import numpy as np\n",
    "import random"
   ]
  },
  {
   "cell_type": "code",
   "execution_count": 8,
   "id": "ff039925-3668-4f49-8b15-3cd6a9b4a75b",
   "metadata": {
    "tags": []
   },
   "outputs": [],
   "source": [
    "np.random.seed(63)\n",
    "points = np.random.randint(1, 100, size=(100, 2))"
   ]
  },
  {
   "cell_type": "code",
   "execution_count": 3,
   "id": "15dcaf2c-4759-412d-b496-3cea3f158e12",
   "metadata": {
    "tags": []
   },
   "outputs": [
    {
     "name": "stdout",
     "output_type": "stream",
     "text": [
      "[93 48]\n"
     ]
    }
   ],
   "source": [
    "indices = np.random.choice(100, size=10, replace=False)\n",
    "arg = points[indices]\n",
    "start = 0\n",
    "end = 9\n",
    "shortest_path(arg, start, end)\n"
   ]
  },
  {
   "cell_type": "code",
   "execution_count": null,
   "id": "2887545f-1d5c-4380-a223-a91c74b97c3b",
   "metadata": {},
   "outputs": [],
   "source": []
  },
  {
   "cell_type": "code",
   "execution_count": null,
   "id": "758a7f8f-b49c-4fb0-89be-b6c33e328ae4",
   "metadata": {},
   "outputs": [],
   "source": []
  }
 ],
 "metadata": {
  "kernelspec": {
   "display_name": "Python [conda env:PIC16B-25W] *",
   "language": "python",
   "name": "conda-env-PIC16B-25W-py"
  },
  "language_info": {
   "codemirror_mode": {
    "name": "ipython",
    "version": 3
   },
   "file_extension": ".py",
   "mimetype": "text/x-python",
   "name": "python",
   "nbconvert_exporter": "python",
   "pygments_lexer": "ipython3",
   "version": "3.11.6"
  }
 },
 "nbformat": 4,
 "nbformat_minor": 5
}
