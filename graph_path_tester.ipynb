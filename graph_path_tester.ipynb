{
 "cells": [
  {
   "cell_type": "code",
   "execution_count": 1,
   "id": "42d551cd-263a-4b4b-91ee-3bc0e179563c",
   "metadata": {
    "tags": []
   },
   "outputs": [],
   "source": [
    "import path_optm\n",
    "import pandas as pd\n",
    "import numpy as np\n",
    "import random\n",
    "import networkx as nx"
   ]
  },
  {
   "cell_type": "code",
   "execution_count": 2,
   "id": "ff039925-3668-4f49-8b15-3cd6a9b4a75b",
   "metadata": {
    "tags": []
   },
   "outputs": [],
   "source": [
    "np.random.seed(63)\n",
    "points = np.random.randint(1, 100, size=(100, 2))\n",
    "indices = np.random.choice(100, size=10, replace=False)"
   ]
  },
  {
   "cell_type": "code",
   "execution_count": 3,
   "id": "15dcaf2c-4759-412d-b496-3cea3f158e12",
   "metadata": {
    "tags": []
   },
   "outputs": [
    {
     "data": {
      "text/plain": [
       "array([[66, 71],\n",
       "       [97, 90],\n",
       "       [51, 95],\n",
       "       [ 7,  5],\n",
       "       [57, 39],\n",
       "       [30,  9],\n",
       "       [71, 61],\n",
       "       [ 8, 42],\n",
       "       [96, 79],\n",
       "       [ 7, 39]])"
      ]
     },
     "execution_count": 3,
     "metadata": {},
     "output_type": "execute_result"
    }
   ],
   "source": [
    "arg = points[indices]\n",
    "start = 0\n",
    "end = 9\n",
    "arg\n"
   ]
  },
  {
   "cell_type": "code",
   "execution_count": 4,
   "id": "2887545f-1d5c-4380-a223-a91c74b97c3b",
   "metadata": {
    "tags": []
   },
   "outputs": [
    {
     "name": "stdout",
     "output_type": "stream",
     "text": [
      "[0, 9, 2, 8, 7, 8, 6, 8, 4, 8, 5, 8, 3, 8, 1, 0]\n"
     ]
    }
   ],
   "source": [
    "print(path_optm.shortest_path(arg, start, end))"
   ]
  },
  {
   "cell_type": "code",
   "execution_count": null,
   "id": "758a7f8f-b49c-4fb0-89be-b6c33e328ae4",
   "metadata": {},
   "outputs": [],
   "source": []
  }
 ],
 "metadata": {
  "kernelspec": {
   "display_name": "Python [conda env:PIC16B-25W] *",
   "language": "python",
   "name": "conda-env-PIC16B-25W-py"
  },
  "language_info": {
   "codemirror_mode": {
    "name": "ipython",
    "version": 3
   },
   "file_extension": ".py",
   "mimetype": "text/x-python",
   "name": "python",
   "nbconvert_exporter": "python",
   "pygments_lexer": "ipython3",
   "version": "3.11.6"
  }
 },
 "nbformat": 4,
 "nbformat_minor": 5
}
